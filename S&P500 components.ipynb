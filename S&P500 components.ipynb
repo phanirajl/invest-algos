{
 "cells": [
  {
   "cell_type": "markdown",
   "metadata": {},
   "source": [
    "# S&P500 Component Companies\n",
    "\n",
    "Good source of data is Siblis Research, very comprehensive and reasonable pricing.  Since the data goes back many decades, I saved a version of the file with only the column for component companies as of Dec 31, 2018.  \n",
    "\n",
    "The only remaining data cleanup step is to remove rows with null values (i.e. not in the S&P500 as of 12/31/2018).  I should also double-check that there aren't any duplicate rows in the data.  Expecting approximately 500 ticker symbols after clean-up."
   ]
  },
  {
   "cell_type": "code",
   "execution_count": 1,
   "metadata": {},
   "outputs": [],
   "source": [
    "import pandas as pd\n",
    "from pandas import DataFrame, Series"
   ]
  },
  {
   "cell_type": "code",
   "execution_count": 2,
   "metadata": {},
   "outputs": [],
   "source": [
    "# Excerpt of the Siblis Research file on S&P500 ... only kept the last column\n",
    "df_sp = pd.read_csv('S&P_500_Components_20181231.csv')"
   ]
  },
  {
   "cell_type": "code",
   "execution_count": 3,
   "metadata": {},
   "outputs": [
    {
     "data": {
      "text/plain": [
       "(1418, 4)"
      ]
     },
     "execution_count": 3,
     "metadata": {},
     "output_type": "execute_result"
    }
   ],
   "source": [
    "# how many rows and columns\n",
    "df_sp.shape"
   ]
  },
  {
   "cell_type": "code",
   "execution_count": 4,
   "metadata": {
    "scrolled": true
   },
   "outputs": [
    {
     "data": {
      "text/html": [
       "<div>\n",
       "<style scoped>\n",
       "    .dataframe tbody tr th:only-of-type {\n",
       "        vertical-align: middle;\n",
       "    }\n",
       "\n",
       "    .dataframe tbody tr th {\n",
       "        vertical-align: top;\n",
       "    }\n",
       "\n",
       "    .dataframe thead th {\n",
       "        text-align: right;\n",
       "    }\n",
       "</style>\n",
       "<table border=\"1\" class=\"dataframe\">\n",
       "  <thead>\n",
       "    <tr style=\"text-align: right;\">\n",
       "      <th></th>\n",
       "      <th>Ticker</th>\n",
       "      <th>ISIN Code</th>\n",
       "      <th>Company Name</th>\n",
       "      <th>12/31/2018</th>\n",
       "    </tr>\n",
       "  </thead>\n",
       "  <tbody>\n",
       "    <tr>\n",
       "      <th>0</th>\n",
       "      <td>A</td>\n",
       "      <td>US00846U1016</td>\n",
       "      <td>Agilent Technologies Inc.</td>\n",
       "      <td>0.10244%</td>\n",
       "    </tr>\n",
       "    <tr>\n",
       "      <th>1</th>\n",
       "      <td>AA</td>\n",
       "      <td>US0138171014</td>\n",
       "      <td>Alcoa Inc</td>\n",
       "      <td>NaN</td>\n",
       "    </tr>\n",
       "    <tr>\n",
       "      <th>2</th>\n",
       "      <td>AAL</td>\n",
       "      <td>US02376R1023</td>\n",
       "      <td>American Airlines Group Inc</td>\n",
       "      <td>0.06315%</td>\n",
       "    </tr>\n",
       "    <tr>\n",
       "      <th>3</th>\n",
       "      <td>AAL (Alex)</td>\n",
       "      <td>US0144761055</td>\n",
       "      <td>Alexander &amp; Alexander Services Inc</td>\n",
       "      <td>NaN</td>\n",
       "    </tr>\n",
       "    <tr>\n",
       "      <th>4</th>\n",
       "      <td>AAP</td>\n",
       "      <td>US00751Y1064</td>\n",
       "      <td>Advance Auto Parts Inc</td>\n",
       "      <td>0.05418%</td>\n",
       "    </tr>\n",
       "  </tbody>\n",
       "</table>\n",
       "</div>"
      ],
      "text/plain": [
       "       Ticker     ISIN Code                        Company Name 12/31/2018\n",
       "0           A  US00846U1016           Agilent Technologies Inc.   0.10244%\n",
       "1          AA  US0138171014                           Alcoa Inc        NaN\n",
       "2         AAL  US02376R1023         American Airlines Group Inc   0.06315%\n",
       "3  AAL (Alex)  US0144761055  Alexander & Alexander Services Inc        NaN\n",
       "4         AAP  US00751Y1064              Advance Auto Parts Inc   0.05418%"
      ]
     },
     "execution_count": 4,
     "metadata": {},
     "output_type": "execute_result"
    }
   ],
   "source": [
    "# examine dataframe\n",
    "df_sp.head()"
   ]
  },
  {
   "cell_type": "code",
   "execution_count": 5,
   "metadata": {},
   "outputs": [
    {
     "name": "stdout",
     "output_type": "stream",
     "text": [
      "Number of duplicates in Ticker column: 0\n",
      "Number of duplicates in ISIN Code column: 0\n",
      "Number of duplicates in Company Name column: 4\n"
     ]
    }
   ],
   "source": [
    "# check if there are any duplicate values in the first 3 columns\n",
    "for each_col in df_sp.columns[:-1]:\n",
    "    # number of duplicate rows for each column\n",
    "    temp_dup_rows = df_sp.duplicated(subset=[each_col], keep=False).sum()\n",
    "    \n",
    "    # print the column name and number of duplicates\n",
    "    print(f'Number of duplicates in {each_col} column: {temp_dup_rows}')"
   ]
  },
  {
   "cell_type": "code",
   "execution_count": 6,
   "metadata": {},
   "outputs": [],
   "source": [
    "# Drop any rows where there is a null value in the last column\n",
    "# https://pandas.pydata.org/pandas-docs/stable/reference/api/pandas.DataFrame.dropna.html\n",
    "df_sp.dropna(subset=['12/31/2018'], inplace=True)"
   ]
  },
  {
   "cell_type": "code",
   "execution_count": 7,
   "metadata": {},
   "outputs": [
    {
     "data": {
      "text/plain": [
       "(505, 4)"
      ]
     },
     "execution_count": 7,
     "metadata": {},
     "output_type": "execute_result"
    }
   ],
   "source": [
    "# how many rows and columns remaining\n",
    "df_sp.shape"
   ]
  },
  {
   "cell_type": "code",
   "execution_count": 8,
   "metadata": {},
   "outputs": [
    {
     "name": "stdout",
     "output_type": "stream",
     "text": [
      "Number of duplicates in Ticker column: 0\n",
      "Number of duplicates in ISIN Code column: 0\n",
      "Number of duplicates in Company Name column: 0\n"
     ]
    }
   ],
   "source": [
    "# check if there are any duplicate values in the first 3 columns\n",
    "for each_col in df_sp.columns[:-1]:\n",
    "    # number of duplicate rows for each column\n",
    "    temp_dup_rows = df_sp.duplicated(subset=[each_col], keep=False).sum()\n",
    "    \n",
    "    # print the column name and number of duplicates\n",
    "    print(f'Number of duplicates in {each_col} column: {temp_dup_rows}')"
   ]
  },
  {
   "cell_type": "code",
   "execution_count": 9,
   "metadata": {},
   "outputs": [],
   "source": [
    "# save the S&P500 csv as new file\n",
    "df_sp.to_csv('sp500_20181231.csv', index=False)"
   ]
  },
  {
   "cell_type": "code",
   "execution_count": null,
   "metadata": {},
   "outputs": [],
   "source": []
  },
  {
   "cell_type": "code",
   "execution_count": null,
   "metadata": {},
   "outputs": [],
   "source": []
  }
 ],
 "metadata": {
  "kernelspec": {
   "display_name": "Python 3",
   "language": "python",
   "name": "python3"
  },
  "language_info": {
   "codemirror_mode": {
    "name": "ipython",
    "version": 3
   },
   "file_extension": ".py",
   "mimetype": "text/x-python",
   "name": "python",
   "nbconvert_exporter": "python",
   "pygments_lexer": "ipython3",
   "version": "3.6.5"
  }
 },
 "nbformat": 4,
 "nbformat_minor": 2
}
